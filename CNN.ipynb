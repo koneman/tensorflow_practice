{
  "nbformat": 4,
  "nbformat_minor": 0,
  "metadata": {
    "colab": {
      "name": "CNN.ipynb",
      "version": "0.3.2",
      "provenance": [],
      "include_colab_link": true
    },
    "kernelspec": {
      "name": "python3",
      "display_name": "Python 3"
    }
  },
  "cells": [
    {
      "cell_type": "markdown",
      "metadata": {
        "id": "view-in-github",
        "colab_type": "text"
      },
      "source": [
        "<a href=\"https://colab.research.google.com/github/koneman/tensorflow_practice/blob/master/CNN.ipynb\" target=\"_parent\"><img src=\"https://colab.research.google.com/assets/colab-badge.svg\" alt=\"Open In Colab\"/></a>"
      ]
    },
    {
      "metadata": {
        "id": "Ivm1BjNGyYUK",
        "colab_type": "text"
      },
      "cell_type": "markdown",
      "source": [
        "[DataCamp CNN TensorFlow Tutorial](https://www.datacamp.com/community/tutorials/cnn-tensorflow-python\n",
        ")\n"
      ]
    },
    {
      "metadata": {
        "id": "OKnAQ2yPvNAx",
        "colab_type": "code",
        "colab": {}
      },
      "cell_type": "code",
      "source": [
        "import tensorflow as tf"
      ],
      "execution_count": 0,
      "outputs": []
    },
    {
      "metadata": {
        "id": "DXzI8T7fyL_Y",
        "colab_type": "code",
        "colab": {}
      },
      "cell_type": "code",
      "source": [
        "# every line of tensorflow code goes through a computational graph\n",
        "a = tf.constant(2.0)\n",
        "b = tf.constant(3.0)\n",
        "c = a * b"
      ],
      "execution_count": 0,
      "outputs": []
    },
    {
      "metadata": {
        "id": "Ukv3sIeKyMCQ",
        "colab_type": "code",
        "colab": {
          "base_uri": "https://localhost:8080/",
          "height": 34
        },
        "outputId": "e5cce74c-0021-44e9-c77b-8a9307f7b27c"
      },
      "cell_type": "code",
      "source": [
        "# nodes a and b are constants that store 2 and 3\n",
        "# node c stores the operation that multiplies them\n",
        "sess = tf.Session()\n",
        "sess.run(c)"
      ],
      "execution_count": 3,
      "outputs": [
        {
          "output_type": "execute_result",
          "data": {
            "text/plain": [
              "6.0"
            ]
          },
          "metadata": {
            "tags": []
          },
          "execution_count": 3
        }
      ]
    },
    {
      "metadata": {
        "id": "2VYEZ2YGzDd3",
        "colab_type": "text"
      },
      "cell_type": "markdown",
      "source": [
        "Placeholders allow you to feed input on the run and allows your computational graph to take inputs as parameters"
      ]
    },
    {
      "metadata": {
        "id": "_9Ec3p2HyMFB",
        "colab_type": "code",
        "colab": {}
      },
      "cell_type": "code",
      "source": [
        "# Creating placeholders\n",
        "a = tf.placeholder(tf.float32)\n",
        "b = tf.placeholder(tf.float32)\n"
      ],
      "execution_count": 0,
      "outputs": []
    },
    {
      "metadata": {
        "id": "F-aDNZhDyMHZ",
        "colab_type": "code",
        "colab": {
          "base_uri": "https://localhost:8080/",
          "height": 34
        },
        "outputId": "f37849ae-3b24-478e-8afe-8746a931a1a8"
      },
      "cell_type": "code",
      "source": [
        "# Assigning addition operation w.r.t. a and b to node add\n",
        "add = a + b\n",
        "\n",
        "# Create session object\n",
        "sess = tf.Session()\n",
        "\n",
        "# Executing add by passing the values [1, 3] [2, 4] for a and b respectively\n",
        "output = sess.run(add, {a: [1,3], b: [2, 4]})\n",
        "print('Adding a and b:', output)"
      ],
      "execution_count": 5,
      "outputs": [
        {
          "output_type": "stream",
          "text": [
            "Adding a and b: [3. 7.]\n"
          ],
          "name": "stdout"
        }
      ]
    },
    {
      "metadata": {
        "id": "-8CY9JGez4fQ",
        "colab_type": "text"
      },
      "cell_type": "markdown",
      "source": [
        "To initialize all the variables in TensorFlow, you need to explicitly call the global variable intializer global_variables_initializer()"
      ]
    },
    {
      "metadata": {
        "id": "pF-YVzH1yMJy",
        "colab_type": "code",
        "colab": {
          "base_uri": "https://localhost:8080/",
          "height": 88
        },
        "outputId": "a116d441-7525-41fc-f945-70cabf02befc"
      },
      "cell_type": "code",
      "source": [
        "#variables can be modified during a run\n",
        "#Variables are defined by providing their initial value and type\n",
        "variable = tf.Variable([0.9,0.7], dtype = tf.float32)\n",
        "\n",
        "#variable must be initialized before a graph is used for the first time. \n",
        "init = tf.global_variables_initializer()\n",
        "sess.run(init)"
      ],
      "execution_count": 6,
      "outputs": [
        {
          "output_type": "stream",
          "text": [
            "WARNING:tensorflow:From /usr/local/lib/python3.6/dist-packages/tensorflow/python/framework/op_def_library.py:263: colocate_with (from tensorflow.python.framework.ops) is deprecated and will be removed in a future version.\n",
            "Instructions for updating:\n",
            "Colocations handled automatically by placer.\n"
          ],
          "name": "stdout"
        }
      ]
    },
    {
      "metadata": {
        "id": "JLDRSqMpyMMY",
        "colab_type": "code",
        "colab": {}
      },
      "cell_type": "code",
      "source": [
        "# collect fashion mnist data\n",
        "# Import libraries\n",
        "import numpy as np\n",
        "import matplotlib.pyplot as plt\n",
        "import tensorflow as tf\n",
        "from tensorflow.examples.tutorials.mnist import input_data\n",
        "%matplotlib inline\n",
        "import os\n",
        "os.environ[\"CUDA_VISIBLE_DEVICES\"]=\"0\" #for training on gpu"
      ],
      "execution_count": 0,
      "outputs": []
    },
    {
      "metadata": {
        "id": "VYsFIyqjyMO0",
        "colab_type": "code",
        "colab": {}
      },
      "cell_type": "code",
      "source": [
        ""
      ],
      "execution_count": 0,
      "outputs": []
    },
    {
      "metadata": {
        "id": "zC3PqaTqyMRg",
        "colab_type": "code",
        "colab": {}
      },
      "cell_type": "code",
      "source": [
        ""
      ],
      "execution_count": 0,
      "outputs": []
    },
    {
      "metadata": {
        "id": "KEpeALpiyMUG",
        "colab_type": "code",
        "colab": {}
      },
      "cell_type": "code",
      "source": [
        ""
      ],
      "execution_count": 0,
      "outputs": []
    },
    {
      "metadata": {
        "id": "CUMWUwySyMW6",
        "colab_type": "code",
        "colab": {}
      },
      "cell_type": "code",
      "source": [
        ""
      ],
      "execution_count": 0,
      "outputs": []
    },
    {
      "metadata": {
        "id": "qY067VGuyMZx",
        "colab_type": "code",
        "colab": {}
      },
      "cell_type": "code",
      "source": [
        ""
      ],
      "execution_count": 0,
      "outputs": []
    },
    {
      "metadata": {
        "id": "KS4RJDnoyMeA",
        "colab_type": "code",
        "colab": {}
      },
      "cell_type": "code",
      "source": [
        ""
      ],
      "execution_count": 0,
      "outputs": []
    }
  ]
}